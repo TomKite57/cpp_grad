{
 "cells": [
  {
   "cell_type": "code",
   "execution_count": null,
   "metadata": {},
   "outputs": [],
   "source": [
    "import cppyy\n",
    "import cppyy.gbl as cpp\n",
    "from cppyy.gbl import std\n",
    "\n",
    "from keras.datasets import mnist\n",
    "\n",
    "import numpy as np\n",
    "import matplotlib.pyplot as plt"
   ]
  },
  {
   "cell_type": "code",
   "execution_count": null,
   "metadata": {},
   "outputs": [],
   "source": [
    "cppyy.include('src/value.hpp')\n",
    "cppyy.include('src/module.hpp')\n",
    "cppyy.include('src/utils.hpp')"
   ]
  },
  {
   "cell_type": "code",
   "execution_count": null,
   "metadata": {},
   "outputs": [],
   "source": [
    "(raw_train_X, raw_train_y), (raw_test_X, raw_test_y) = mnist.load_data()\n",
    "train_X = std.vector[std.vector[float]]()\n",
    "train_y = std.vector[std.vector[float]]()\n",
    "test_X = std.vector[std.vector[float]]()\n",
    "test_y = std.vector[std.vector[float]]()\n",
    "\n",
    "[train_X.push_back(std.vector[float](list(x.flatten()/255 - 0.5))) for x in raw_train_X];\n",
    "[train_y.push_back(std.vector[float](list(np.eye(10)[y]))) for y in raw_train_y];\n",
    "[test_X.push_back(std.vector[float](list(x.flatten()/255 - 0.5))) for x in raw_test_X];\n",
    "[test_y.push_back(std.vector[float](list(np.eye(10)[y]))) for y in raw_test_y];"
   ]
  },
  {
   "cell_type": "code",
   "execution_count": null,
   "metadata": {},
   "outputs": [],
   "source": [
    "test_ind = np.random.randint(0, len(raw_train_X))\n",
    "plt.imshow(raw_train_X[test_ind])\n",
    "print(raw_train_y[test_ind])"
   ]
  },
  {
   "cell_type": "code",
   "execution_count": null,
   "metadata": {},
   "outputs": [],
   "source": [
    "mnist_model = cpp.MLP[float]([784, 30, 10])"
   ]
  },
  {
   "cell_type": "code",
   "execution_count": null,
   "metadata": {},
   "outputs": [],
   "source": [
    "BATCH = 50\n",
    "EPOCHS = 3\n",
    "LOSSES = []\n",
    "running_loss = 0\n",
    "\n",
    "for i in range(EPOCHS):\n",
    "    for j in range(0, len(train_X), BATCH):\n",
    "        for k in range(min(BATCH, len(train_X)-j)):\n",
    "            loss = mnist_model.loss(train_X[j+k], train_y[j+k])\n",
    "            loss.backward()\n",
    "            running_loss += loss.get_data()\n",
    "        mnist_model.descend_grad(0.0005)\n",
    "        mnist_model.zero_grad()\n",
    "        print(f\"Epoch: {i}, Batch: {j}, Loss: {running_loss/k}\")\n",
    "        running_loss = 0.0"
   ]
  },
  {
   "cell_type": "code",
   "execution_count": null,
   "metadata": {},
   "outputs": [],
   "source": [
    "count = 0\n",
    "for x, y in zip(test_X, test_y):\n",
    "    if np.argmax([val.get_data() for val in mnist_model(x)]) == np.argmax(y):\n",
    "        count += 1\n",
    "print(f\"Accuracy: {count/len(test_X)}\")"
   ]
  },
  {
   "cell_type": "code",
   "execution_count": null,
   "metadata": {},
   "outputs": [],
   "source": [
    "test_dict = dict()\n",
    "\n",
    "for i, (x, y) in enumerate(zip(test_X, test_y)):\n",
    "    prediction = np.argmax([val.get_data() for val in mnist_model(x)])\n",
    "    test_dict[i] = (prediction, np.argmax(y))\n",
    "\n",
    "fail_dict = {k:v for k,v in test_dict.items() if v[0] != v[1]}"
   ]
  },
  {
   "cell_type": "code",
   "execution_count": null,
   "metadata": {},
   "outputs": [],
   "source": [
    "def visualise_error(ind):\n",
    "    plt.imshow(raw_test_X[ind])\n",
    "    print(f\"Prediction: {fail_dict[ind][0]}, Actual: {fail_dict[ind][1]}\")\n",
    "\n",
    "all_fail = list(fail_dict.keys())\n",
    "\n",
    "visualise_error(all_fail[10])"
   ]
  },
  {
   "cell_type": "code",
   "execution_count": null,
   "metadata": {},
   "outputs": [],
   "source": []
  }
 ],
 "metadata": {
  "kernelspec": {
   "display_name": "Python 3",
   "language": "python",
   "name": "python3"
  },
  "language_info": {
   "codemirror_mode": {
    "name": "ipython",
    "version": 3
   },
   "file_extension": ".py",
   "mimetype": "text/x-python",
   "name": "python",
   "nbconvert_exporter": "python",
   "pygments_lexer": "ipython3",
   "version": "3.10.6"
  },
  "orig_nbformat": 4,
  "vscode": {
   "interpreter": {
    "hash": "916dbcbb3f70747c44a77c7bcd40155683ae19c65e1c03b4aa3499c5328201f1"
   }
  }
 },
 "nbformat": 4,
 "nbformat_minor": 2
}
