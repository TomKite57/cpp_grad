{
 "cells": [
  {
   "cell_type": "code",
   "execution_count": 1,
   "metadata": {},
   "outputs": [
    {
     "name": "stderr",
     "output_type": "stream",
     "text": [
      "2023-02-13 18:42:14.234911: I tensorflow/core/platform/cpu_feature_guard.cc:193] This TensorFlow binary is optimized with oneAPI Deep Neural Network Library (oneDNN) to use the following CPU instructions in performance-critical operations:  AVX2\n",
      "To enable them in other operations, rebuild TensorFlow with the appropriate compiler flags.\n",
      "2023-02-13 18:42:14.849321: W tensorflow/compiler/xla/stream_executor/platform/default/dso_loader.cc:64] Could not load dynamic library 'libcudart.so.11.0'; dlerror: libcudart.so.11.0: cannot open shared object file: No such file or directory\n",
      "2023-02-13 18:42:14.849344: I tensorflow/compiler/xla/stream_executor/cuda/cudart_stub.cc:29] Ignore above cudart dlerror if you do not have a GPU set up on your machine.\n",
      "2023-02-13 18:42:16.118948: W tensorflow/compiler/xla/stream_executor/platform/default/dso_loader.cc:64] Could not load dynamic library 'libnvinfer.so.7'; dlerror: libnvinfer.so.7: cannot open shared object file: No such file or directory\n",
      "2023-02-13 18:42:16.119131: W tensorflow/compiler/xla/stream_executor/platform/default/dso_loader.cc:64] Could not load dynamic library 'libnvinfer_plugin.so.7'; dlerror: libnvinfer_plugin.so.7: cannot open shared object file: No such file or directory\n",
      "2023-02-13 18:42:16.119137: W tensorflow/compiler/tf2tensorrt/utils/py_utils.cc:38] TF-TRT Warning: Cannot dlopen some TensorRT libraries. If you would like to use Nvidia GPU with TensorRT, please make sure the missing libraries mentioned above are installed properly.\n"
     ]
    }
   ],
   "source": [
    "import cppyy\n",
    "import cppyy.gbl as cpp\n",
    "from cppyy.gbl import std\n",
    "\n",
    "from keras.datasets import mnist\n",
    "\n",
    "import numpy as np\n",
    "import matplotlib.pyplot as plt"
   ]
  },
  {
   "cell_type": "code",
   "execution_count": 2,
   "metadata": {},
   "outputs": [
    {
     "data": {
      "text/plain": [
       "True"
      ]
     },
     "execution_count": 2,
     "metadata": {},
     "output_type": "execute_result"
    }
   ],
   "source": [
    "cppyy.include('src/value.hpp')\n",
    "cppyy.include('src/module.hpp')\n",
    "cppyy.include('src/utils.hpp')"
   ]
  },
  {
   "cell_type": "code",
   "execution_count": 3,
   "metadata": {},
   "outputs": [],
   "source": [
    "model = cpp.MLP[float]([2, 2, 2, 2])"
   ]
  },
  {
   "cell_type": "code",
   "execution_count": 4,
   "metadata": {},
   "outputs": [],
   "source": [
    "inp = std.vector[float]({2.0, 5.0})\n",
    "out = std.vector[float]({1.0, 0.0})"
   ]
  },
  {
   "cell_type": "code",
   "execution_count": 5,
   "metadata": {},
   "outputs": [
    {
     "name": "stdout",
     "output_type": "stream",
     "text": [
      "Output: Vector(Value(1.19209e-07, 0), Value(1, 0))\n",
      "Loss: Value(1.42109e-14, 1)\n",
      "\n",
      "\n"
     ]
    }
   ],
   "source": [
    "for i in range(50):\n",
    "    loss = model.loss(inp, out)\n",
    "    loss.backward()\n",
    "    model.descend_grad()\n",
    "    model.zero_grad()\n",
    "print(f\"Output: {model(inp)}\\nLoss: {loss}\\n\\n\")"
   ]
  },
  {
   "cell_type": "code",
   "execution_count": 6,
   "metadata": {},
   "outputs": [],
   "source": [
    "(train_X, train_y), (test_X, test_y) = mnist.load_data()"
   ]
  },
  {
   "cell_type": "code",
   "execution_count": 7,
   "metadata": {},
   "outputs": [
    {
     "name": "stdout",
     "output_type": "stream",
     "text": [
      "3\n"
     ]
    },
    {
     "data": {
      "image/png": "[encoded data removed]",
      "text/plain": [
       "<Figure size 640x480 with 1 Axes>"
      ]
     },
     "metadata": {},
     "output_type": "display_data"
    }
   ],
   "source": [
    "test_ind = 10\n",
    "plt.imshow(train_X[test_ind])\n",
    "print(train_y[test_ind])"
   ]
  },
  {
   "cell_type": "code",
   "execution_count": 8,
   "metadata": {},
   "outputs": [
    {
     "data": {
      "text/plain": [
       "(784,)"
      ]
     },
     "execution_count": 8,
     "metadata": {},
     "output_type": "execute_result"
    }
   ],
   "source": [
    "train_X[0].flatten().shape"
   ]
  },
  {
   "cell_type": "code",
   "execution_count": 9,
   "metadata": {},
   "outputs": [
    {
     "data": {
      "text/plain": [
       "'\\nmnist_model = cpp.MLP[float]([784, 16, 16, 10])\\nBATCH = 32\\nCYCLES = 100\\n\\nfor i in range(CYCLES):\\n    mnist_model.zero_grad()\\n    \\n    for j in range(BATCH):\\n        ind = np.random.randint(0, train_X.shape[0])\\n        inp = std.vector[float]()\\n        [inp.push_back(float(x)) for x in train_X[ind].flatten()]\\n        out = std.vector[float]()\\n        [out.push_back(0) for _ in range(10)]\\n        out[int(train_y[ind])] = 1.0\\n        \\n        loss = mnist_model.loss(inp, out)\\n        loss.backward()\\n        \\n    mnist_model.descend_grad()\\n'"
      ]
     },
     "execution_count": 9,
     "metadata": {},
     "output_type": "execute_result"
    }
   ],
   "source": [
    "\"\"\"\n",
    "mnist_model = cpp.MLP[float]([784, 16, 16, 10])\n",
    "BATCH = 32\n",
    "CYCLES = 100\n",
    "\n",
    "for i in range(CYCLES):\n",
    "    mnist_model.zero_grad()\n",
    "    \n",
    "    for j in range(BATCH):\n",
    "        ind = np.random.randint(0, train_X.shape[0])\n",
    "        inp = std.vector[float]()\n",
    "        [inp.push_back(float(x)) for x in train_X[ind].flatten()]\n",
    "        out = std.vector[float]()\n",
    "        [out.push_back(0) for _ in range(10)]\n",
    "        out[int(train_y[ind])] = 1.0\n",
    "        \n",
    "        loss = mnist_model.loss(inp, out)\n",
    "        loss.backward()\n",
    "        \n",
    "    mnist_model.descend_grad()\n",
    "\"\"\""
   ]
  },
  {
   "cell_type": "code",
   "execution_count": 10,
   "metadata": {},
   "outputs": [],
   "source": [
    "with open(\"mnist_train_images.txt\", \"w\") as file:\n",
    "    for image in train_X:\n",
    "        file.write(\" \".join([str(x) for x in image.flatten()]))\n",
    "        file.write(\"\\n\")\n",
    "\n",
    "with open(\"mnist_train_labels.txt\", \"w\") as file:\n",
    "    for label in train_y:\n",
    "        file.write(str(label))\n",
    "        file.write(\"\\n\")\n",
    "\n",
    "with open(\"mnist_test_images.txt\", \"w\") as file:\n",
    "    for image in test_X:\n",
    "        file.write(\" \".join([str(x) for x in image.flatten()]))\n",
    "        file.write(\"\\n\")\n",
    "\n",
    "with open(\"mnist_test_labels.txt\", \"w\") as file:\n",
    "    for label in test_y:\n",
    "        file.write(str(label))\n",
    "        file.write(\"\\n\")"
   ]
  },
  {
   "cell_type": "code",
   "execution_count": null,
   "metadata": {},
   "outputs": [],
   "source": []
  }
 ],
 "metadata": {
  "kernelspec": {
   "display_name": "Python 3",
   "language": "python",
   "name": "python3"
  },
  "language_info": {
   "codemirror_mode": {
    "name": "ipython",
    "version": 3
   },
   "file_extension": ".py",
   "mimetype": "text/x-python",
   "name": "python",
   "nbconvert_exporter": "python",
   "pygments_lexer": "ipython3",
   "version": "3.10.6"
  },
  "orig_nbformat": 4,
  "vscode": {
   "interpreter": {
    "hash": "916dbcbb3f70747c44a77c7bcd40155683ae19c65e1c03b4aa3499c5328201f1"
   }
  }
 },
 "nbformat": 4,
 "nbformat_minor": 2
}
