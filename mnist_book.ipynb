{
 "cells": [
  {
   "cell_type": "code",
   "execution_count": 1,
   "metadata": {},
   "outputs": [
    {
     "name": "stderr",
     "output_type": "stream",
     "text": [
      "2023-02-14 19:56:23.809398: I tensorflow/core/platform/cpu_feature_guard.cc:193] This TensorFlow binary is optimized with oneAPI Deep Neural Network Library (oneDNN) to use the following CPU instructions in performance-critical operations:  AVX2\n",
      "To enable them in other operations, rebuild TensorFlow with the appropriate compiler flags.\n",
      "2023-02-14 19:56:24.302241: W tensorflow/compiler/xla/stream_executor/platform/default/dso_loader.cc:64] Could not load dynamic library 'libcudart.so.11.0'; dlerror: libcudart.so.11.0: cannot open shared object file: No such file or directory\n",
      "2023-02-14 19:56:24.302254: I tensorflow/compiler/xla/stream_executor/cuda/cudart_stub.cc:29] Ignore above cudart dlerror if you do not have a GPU set up on your machine.\n",
      "2023-02-14 19:56:25.519930: W tensorflow/compiler/xla/stream_executor/platform/default/dso_loader.cc:64] Could not load dynamic library 'libnvinfer.so.7'; dlerror: libnvinfer.so.7: cannot open shared object file: No such file or directory\n",
      "2023-02-14 19:56:25.520056: W tensorflow/compiler/xla/stream_executor/platform/default/dso_loader.cc:64] Could not load dynamic library 'libnvinfer_plugin.so.7'; dlerror: libnvinfer_plugin.so.7: cannot open shared object file: No such file or directory\n",
      "2023-02-14 19:56:25.520061: W tensorflow/compiler/tf2tensorrt/utils/py_utils.cc:38] TF-TRT Warning: Cannot dlopen some TensorRT libraries. If you would like to use Nvidia GPU with TensorRT, please make sure the missing libraries mentioned above are installed properly.\n"
     ]
    }
   ],
   "source": [
    "import cppyy\n",
    "import cppyy.gbl as cpp\n",
    "from cppyy.gbl import std\n",
    "\n",
    "from keras.datasets import mnist\n",
    "\n",
    "import numpy as np\n",
    "import matplotlib.pyplot as plt"
   ]
  },
  {
   "cell_type": "code",
   "execution_count": 2,
   "metadata": {},
   "outputs": [
    {
     "data": {
      "text/plain": [
       "True"
      ]
     },
     "execution_count": 2,
     "metadata": {},
     "output_type": "execute_result"
    }
   ],
   "source": [
    "cppyy.include('src/value.hpp')\n",
    "cppyy.include('src/module.hpp')\n",
    "cppyy.include('src/utils.hpp')"
   ]
  },
  {
   "cell_type": "code",
   "execution_count": 20,
   "metadata": {},
   "outputs": [
    {
     "ename": "SystemError",
     "evalue": "<built-in method __init__ of vector<float> object at 0x7f6beaa6f900> returned a result with an exception set",
     "output_type": "error",
     "traceback": [
      "\u001b[0;31m---------------------------------------------------------------------------\u001b[0m",
      "\u001b[0;31mTypeError\u001b[0m                                 Traceback (most recent call last)",
      "\u001b[0;31mTypeError\u001b[0m: buffer itemsize (8) does not match expected size (4)",
      "\nThe above exception was the direct cause of the following exception:\n",
      "\u001b[0;31mSystemError\u001b[0m                               Traceback (most recent call last)",
      "Cell \u001b[0;32mIn[20], line 8\u001b[0m\n\u001b[1;32m      5\u001b[0m test_y \u001b[39m=\u001b[39m std\u001b[39m.\u001b[39mvector[std\u001b[39m.\u001b[39mvector[\u001b[39mfloat\u001b[39m]]()\n\u001b[1;32m      7\u001b[0m [train_X\u001b[39m.\u001b[39mpush_back(std\u001b[39m.\u001b[39mvector[\u001b[39mfloat\u001b[39m](\u001b[39mlist\u001b[39m(x\u001b[39m.\u001b[39mflatten()))) \u001b[39mfor\u001b[39;00m x \u001b[39min\u001b[39;00m raw_train_X]\n\u001b[0;32m----> 8\u001b[0m [train_y\u001b[39m.\u001b[39mpush_back(std\u001b[39m.\u001b[39mvector[\u001b[39mfloat\u001b[39m](np\u001b[39m.\u001b[39meye(\u001b[39m10\u001b[39m)[y])) \u001b[39mfor\u001b[39;00m y \u001b[39min\u001b[39;00m raw_train_y]\n\u001b[1;32m      9\u001b[0m [test_X\u001b[39m.\u001b[39mpush_back(std\u001b[39m.\u001b[39mvector[\u001b[39mfloat\u001b[39m](x\u001b[39m.\u001b[39mflatten())) \u001b[39mfor\u001b[39;00m x \u001b[39min\u001b[39;00m raw_test_X]\n\u001b[1;32m     10\u001b[0m [test_y\u001b[39m.\u001b[39mpush_back(std\u001b[39m.\u001b[39mvector[\u001b[39mfloat\u001b[39m](np\u001b[39m.\u001b[39meye(\u001b[39m10\u001b[39m)[y])) \u001b[39mfor\u001b[39;00m y \u001b[39min\u001b[39;00m raw_test_y]\n",
      "Cell \u001b[0;32mIn[20], line 8\u001b[0m, in \u001b[0;36m<listcomp>\u001b[0;34m(.0)\u001b[0m\n\u001b[1;32m      5\u001b[0m test_y \u001b[39m=\u001b[39m std\u001b[39m.\u001b[39mvector[std\u001b[39m.\u001b[39mvector[\u001b[39mfloat\u001b[39m]]()\n\u001b[1;32m      7\u001b[0m [train_X\u001b[39m.\u001b[39mpush_back(std\u001b[39m.\u001b[39mvector[\u001b[39mfloat\u001b[39m](\u001b[39mlist\u001b[39m(x\u001b[39m.\u001b[39mflatten()))) \u001b[39mfor\u001b[39;00m x \u001b[39min\u001b[39;00m raw_train_X]\n\u001b[0;32m----> 8\u001b[0m [train_y\u001b[39m.\u001b[39mpush_back(std\u001b[39m.\u001b[39;49mvector[\u001b[39mfloat\u001b[39;49m](np\u001b[39m.\u001b[39;49meye(\u001b[39m10\u001b[39;49m)[y])) \u001b[39mfor\u001b[39;00m y \u001b[39min\u001b[39;00m raw_train_y]\n\u001b[1;32m      9\u001b[0m [test_X\u001b[39m.\u001b[39mpush_back(std\u001b[39m.\u001b[39mvector[\u001b[39mfloat\u001b[39m](x\u001b[39m.\u001b[39mflatten())) \u001b[39mfor\u001b[39;00m x \u001b[39min\u001b[39;00m raw_test_X]\n\u001b[1;32m     10\u001b[0m [test_y\u001b[39m.\u001b[39mpush_back(std\u001b[39m.\u001b[39mvector[\u001b[39mfloat\u001b[39m](np\u001b[39m.\u001b[39meye(\u001b[39m10\u001b[39m)[y])) \u001b[39mfor\u001b[39;00m y \u001b[39min\u001b[39;00m raw_test_y]\n",
      "\u001b[0;31mSystemError\u001b[0m: <built-in method __init__ of vector<float> object at 0x7f6beaa6f900> returned a result with an exception set"
     ]
    }
   ],
   "source": [
    "(raw_train_X, raw_train_y), (raw_test_X, raw_test_y) = mnist.load_data()\n",
    "train_X = std.vector[std.vector[float]]()\n",
    "train_y = std.vector[std.vector[float]]()\n",
    "test_X = std.vector[std.vector[float]]()\n",
    "test_y = std.vector[std.vector[float]]()\n",
    "\n",
    "[train_X.push_back(std.vector[float](list(x.flatten()))) for x in raw_train_X]\n",
    "[train_y.push_back(std.vector[float](list(np.eye(10)[y]))) for y in raw_train_y]\n",
    "[test_X.push_back(std.vector[float](list(x.flatten()))) for x in raw_test_X]\n",
    "[test_y.push_back(std.vector[float](list(np.eye(10)[y]))) for y in raw_test_y]"
   ]
  },
  {
   "cell_type": "code",
   "execution_count": 12,
   "metadata": {},
   "outputs": [
    {
     "name": "stdout",
     "output_type": "stream",
     "text": [
      "6\n"
     ]
    },
    {
     "data": {
      "image/png": "[encoded data removed]",
      "text/plain": [
       "<Figure size 640x480 with 1 Axes>"
      ]
     },
     "metadata": {},
     "output_type": "display_data"
    }
   ],
   "source": [
    "test_ind = np.random.randint(0, len(train_X))\n",
    "plt.imshow(train_X[test_ind])\n",
    "print(train_y[test_ind])"
   ]
  },
  {
   "cell_type": "code",
   "execution_count": 17,
   "metadata": {},
   "outputs": [
    {
     "ename": "TypeError",
     "evalue": "none of the 2 overloaded methods succeeded. Full details:\n  Value<float> MLP<float>::loss(const std::vector<float>& input, const std::vector<float>& target) =>\n    TypeError: could not convert argument 1\n  Value<float> MLP<float>::loss(const std::vector<Value<float> >& input, const std::vector<float>& target) =>\n    TypeError: could not convert argument 1",
     "output_type": "error",
     "traceback": [
      "\u001b[0;31m---------------------------------------------------------------------------\u001b[0m",
      "\u001b[0;31mTypeError\u001b[0m                                 Traceback (most recent call last)",
      "Cell \u001b[0;32mIn[17], line 13\u001b[0m\n\u001b[1;32m     11\u001b[0m Y \u001b[39m=\u001b[39m [\u001b[39m0\u001b[39m \u001b[39mfor\u001b[39;00m _ \u001b[39min\u001b[39;00m \u001b[39mrange\u001b[39m(\u001b[39m10\u001b[39m)]\n\u001b[1;32m     12\u001b[0m Y[train_y[j\u001b[39m+\u001b[39mk]] \u001b[39m=\u001b[39m \u001b[39m1\u001b[39m\n\u001b[0;32m---> 13\u001b[0m loss \u001b[39m=\u001b[39m mnist_model\u001b[39m.\u001b[39;49mloss(X, Y)\n\u001b[1;32m     14\u001b[0m loss\u001b[39m.\u001b[39mbackward()\n\u001b[1;32m     15\u001b[0m running_loss \u001b[39m+\u001b[39m\u001b[39m=\u001b[39m loss\u001b[39m.\u001b[39mget_data()\n",
      "\u001b[0;31mTypeError\u001b[0m: none of the 2 overloaded methods succeeded. Full details:\n  Value<float> MLP<float>::loss(const std::vector<float>& input, const std::vector<float>& target) =>\n    TypeError: could not convert argument 1\n  Value<float> MLP<float>::loss(const std::vector<Value<float> >& input, const std::vector<float>& target) =>\n    TypeError: could not convert argument 1"
     ]
    }
   ],
   "source": [
    "mnist_model = cpp.MLP[float]([784, 16, 16, 10])\n",
    "BATCH = 32\n",
    "EPOCHS = 1\n",
    "LOSSES = []\n",
    "running_loss = 0\n",
    "\n",
    "for i in range(EPOCHS):\n",
    "    for j in range(0, len(train_X), BATCH):\n",
    "        for k in range(BATCH):\n",
    "            X = std.vector[float](train_X[j+k].flatten())\n",
    "            Y = [0 for _ in range(10)]\n",
    "            Y[train_y[j+k]] = 1\n",
    "            loss = mnist_model.loss(X, Y)\n",
    "            loss.backward()\n",
    "            running_loss += loss.get_data()\n",
    "        mnist_model.descend_grad()\n",
    "        mnist_model.zero_grad()\n",
    "        print(f\"Epoch: {i}, Batch: {j}, Loss: {running_loss/BATCH}\")\n",
    "        LOSSES.append(running_loss/BATCH)"
   ]
  },
  {
   "cell_type": "code",
   "execution_count": null,
   "metadata": {},
   "outputs": [],
   "source": []
  }
 ],
 "metadata": {
  "kernelspec": {
   "display_name": "Python 3",
   "language": "python",
   "name": "python3"
  },
  "language_info": {
   "codemirror_mode": {
    "name": "ipython",
    "version": 3
   },
   "file_extension": ".py",
   "mimetype": "text/x-python",
   "name": "python",
   "nbconvert_exporter": "python",
   "pygments_lexer": "ipython3",
   "version": "3.10.6"
  },
  "orig_nbformat": 4,
  "vscode": {
   "interpreter": {
    "hash": "916dbcbb3f70747c44a77c7bcd40155683ae19c65e1c03b4aa3499c5328201f1"
   }
  }
 },
 "nbformat": 4,
 "nbformat_minor": 2
}
